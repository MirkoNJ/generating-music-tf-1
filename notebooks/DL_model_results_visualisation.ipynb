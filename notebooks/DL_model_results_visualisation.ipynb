{
 "cells": [
  {
   "cell_type": "markdown",
   "id": "6c1d07e1",
   "metadata": {},
   "source": [
    "### Set Up"
   ]
  },
  {
   "cell_type": "markdown",
   "id": "f550320a",
   "metadata": {},
   "source": [
    "#### Standard library imports"
   ]
  },
  {
   "cell_type": "code",
   "execution_count": null,
   "id": "6f986c68",
   "metadata": {},
   "outputs": [],
   "source": [
    "import os\n",
    "import pdb"
   ]
  },
  {
   "cell_type": "markdown",
   "id": "13d0ca14",
   "metadata": {},
   "source": [
    "#### Third party imports "
   ]
  },
  {
   "cell_type": "code",
   "execution_count": null,
   "id": "d0a13636",
   "metadata": {},
   "outputs": [],
   "source": [
    "import numpy as np\n",
    "import matplotlib.pyplot as plt"
   ]
  },
  {
   "cell_type": "markdown",
   "id": "7c5e0759",
   "metadata": {},
   "source": [
    "#### Extensions and autoreload"
   ]
  },
  {
   "cell_type": "code",
   "execution_count": null,
   "id": "9933d3b8",
   "metadata": {},
   "outputs": [],
   "source": [
    "%load_ext autoreload\n",
    "%autoreload 2"
   ]
  },
  {
   "cell_type": "markdown",
   "id": "fd79563f",
   "metadata": {},
   "source": [
    "#### Setting relative directories to compare TF1 and TF2 results"
   ]
  },
  {
   "cell_type": "code",
   "execution_count": null,
   "id": "e402bfa7",
   "metadata": {},
   "outputs": [],
   "source": [
    "Epoch_number_tf1 = 16\n",
    "Epoch_name_tf1 = \"Long_Train_256\" #+ str(Epoch_number_tf1)\n",
    "Date_tf1  = \"20210924\"\n",
    "Epoch_number_tf2 = 64\n",
    "Epoch_name_tf2 = \"alpha_0.01_beta_1.0_epoch_\" + str(Epoch_number_tf2)\n",
    "Date_tf2  = \"20210920\""
   ]
  },
  {
   "cell_type": "code",
   "execution_count": null,
   "id": "beaac11b",
   "metadata": {},
   "outputs": [],
   "source": [
    "Working_Directory = os.getcwd()\n",
    "Project_Directory_tf1 = os.path.abspath(os.path.join(Working_Directory,'..'))\n",
    "Project_Directory = os.path.abspath(os.path.join(Project_Directory_tf1,'..'))\n",
    "Project_Directory_tf2 = Project_Directory + \"/tf2\"\n",
    "\n",
    "Output_Directory_tf1 = Project_Directory_tf1 + \"/outputs/\"\n",
    "Output_Directory_tf2 = Project_Directory_tf2 + \"/outputs/\"\n",
    "Model_Directory_tf1 = Output_Directory_tf1 + \"models/\"\n",
    "Model_Directory_tf2 = Output_Directory_tf2 + \"models/\"\n",
    "Numpy_Directory_tf1 = Model_Directory_tf1 + \"arrays/\"\n",
    "Numpy_Directory_tf2 = Model_Directory_tf2 + \"arrays/\""
   ]
  },
  {
   "cell_type": "markdown",
   "id": "8cf0ac99",
   "metadata": {},
   "source": [
    "#### Load TF1 results array"
   ]
  },
  {
   "cell_type": "code",
   "execution_count": null,
   "id": "1cbb7368",
   "metadata": {},
   "outputs": [],
   "source": [
    "load_path = Numpy_Directory_tf1 + Date_tf1 + '/' + Epoch_name_tf1 + '_array.npz'\n",
    "npzfile = np.load(load_path) \n",
    "keys = ['train_loss_p_a_array', \n",
    "        'train_loss_vel_array',\n",
    "        'val_loss_p_a_array', \n",
    "        'val_loss_vel_array'\n",
    "       ]\n",
    "np_arrays_tf1 = {}\n",
    "for i in range(len(keys)):\n",
    "    np_arrays_tf1[keys[i]] = npzfile['arr_'+ str(i)] "
   ]
  },
  {
   "cell_type": "markdown",
   "id": "5d8f117d",
   "metadata": {},
   "source": [
    "#### Load TF2 results array"
   ]
  },
  {
   "cell_type": "code",
   "execution_count": null,
   "id": "27397fc9",
   "metadata": {},
   "outputs": [],
   "source": [
    "load_path = Numpy_Directory_tf2 + Date_tf2 + '/' + Epoch_name_tf2 + '_array.npz'\n",
    "npzfile = np.load(load_path) \n",
    "keys = ['train_loss_p_a', \n",
    "        'train_loss_vel',\n",
    "        'train_metric_p_a', \n",
    "        'train_metric_vel', \n",
    "        'val_loss_p_a', \n",
    "        'val_loss_vel', \n",
    "        'val_metric_p_a', \n",
    "        'val_metric_vel', \n",
    "        'train_p_conf_array', \n",
    "        'train_a_conf_array',\n",
    "        'val_p_conf_array', \n",
    "        'val_a_conf_array',\n",
    "        'X_train', \n",
    "        'y_train', \n",
    "        'y_pred_train', \n",
    "        'X_val', \n",
    "        'y_val', \n",
    "        'y_pred_val'\n",
    "       ]\n",
    "np_arrays_tf2 = {}\n",
    "for i in range(len(keys)):\n",
    "    np_arrays_tf2[keys[i]] = npzfile['arr_'+ str(i)] "
   ]
  },
  {
   "cell_type": "markdown",
   "id": "debe6631",
   "metadata": {},
   "source": [
    "### Plotting"
   ]
  },
  {
   "cell_type": "code",
   "execution_count": null,
   "id": "89430d83",
   "metadata": {},
   "outputs": [],
   "source": [
    "def lineplot_matplot(arr1, arr2, v, l, t, max, tb):\n",
    "    fig, (ax1, ax2) = plt.subplots(1,2, figsize=(10, 6), sharey=True, constrained_layout=True)\n",
    "\n",
    "    y1 = np.mean(arr2['train_'+ v], axis=1)[0:max]\n",
    "    y3 = np.mean(arr2['val_'+ v], axis=1)[0:max]    \n",
    "    if v== \"loss_vel\":\n",
    "        y2 = np.mean(np.sqrt(arr1['train_'+ v + '_array']), axis=1)[0:max]\n",
    "        y4 = np.mean(np.sqrt(arr1['val_'+ v + '_array']), axis=1)[0:max]\n",
    "    else:\n",
    "        y2 = np.mean(arr1['train_'+ v + '_array'], axis=1)[0:max]\n",
    "        y4 = np.mean(arr1['val_'+ v + '_array'], axis=1)[0:max]\n",
    "\n",
    "    ax1.plot(range(1,len(y1)+1), y1, color='black')\n",
    "    ax1.plot(range(1,len(y1)+1), y2, color='black' , linestyle='dashed')\n",
    "    ax1.set_title(r'Training')\n",
    "    ax1.set_xlabel(r'Epoch')\n",
    "    labels = ['1', '2', '4', '8', '16']\n",
    "    locs=[1.0, 2.0, 4.0, 8.0, 16.0]\n",
    "    ax1.set_xticklabels(labels)\n",
    "    ax1.set_xticks(locs)    \n",
    "    ax1.set_ylabel(t)\n",
    "    ax2.plot(range(1,len(y1)+1), y3, color='black', label= \"BALSTM-TF2\")\n",
    "    ax2.plot(range(1,len(y1)+1), y4, color='black' , linestyle='dashed', label = \"BALSTM-TF1\")\n",
    "    ax2.set_xticklabels(labels)\n",
    "    ax2.set_xticks(locs)   \n",
    "    ax2.set_title(r'Validation')\n",
    "    ax2.set_xlabel(r'Epoch')\n",
    "    ax2.legend(loc=tb+\" right\")\n",
    "\n",
    "    fig.suptitle(l + ': ' + t)\n",
    "    plt.rcParams.update({'font.size': 22})\n",
    "    plt.savefig(os.path.join(l+'.png'),  facecolor=\"w\", transparent= False, dpi=300, format='png') #, bbox_inches='tight', transparent= False\n",
    "    return plt"
   ]
  },
  {
   "cell_type": "code",
   "execution_count": null,
   "id": "a1cccf80",
   "metadata": {},
   "outputs": [],
   "source": [
    "lineplot_matplot(np_arrays_tf1, np_arrays_tf2, 'loss_vel', 'Velocity Loss', r'$\\sqrt{L_2}$', Epoch_number_tf1, \"upper\")"
   ]
  },
  {
   "cell_type": "code",
   "execution_count": null,
   "id": "ee299472",
   "metadata": {},
   "outputs": [],
   "source": [
    "lineplot_matplot(np_arrays_tf1, np_arrays_tf2, 'loss_p_a', 'Play Articulate Loss', r'$L_1$', Epoch_number_tf1, \"upper\")"
   ]
  }
 ],
 "metadata": {
  "kernelspec": {
   "display_name": "Python 3",
   "language": "python",
   "name": "python3"
  },
  "language_info": {
   "codemirror_mode": {
    "name": "ipython",
    "version": 3
   },
   "file_extension": ".py",
   "mimetype": "text/x-python",
   "name": "python",
   "nbconvert_exporter": "python",
   "pygments_lexer": "ipython3",
   "version": "3.6.15"
  }
 },
 "nbformat": 4,
 "nbformat_minor": 5
}
