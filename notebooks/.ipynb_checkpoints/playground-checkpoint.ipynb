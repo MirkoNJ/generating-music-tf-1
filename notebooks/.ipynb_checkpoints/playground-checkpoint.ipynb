{
 "cells": [
  {
   "cell_type": "code",
   "execution_count": null,
   "id": "bba03c19",
   "metadata": {},
   "outputs": [],
   "source": [
    "import tensorflow as tf\n",
    "import numpy as np\n",
    "import sys\n",
    "from modules.magenta.shared import events_rnn_graph\n",
    "from modules.magenta.rl_tuner import note_rnn_loader\n",
    "from modules.magenta.rl_tuner import rl_tuner_ops \n",
    "from modules.magenta.common import sequence_example_lib"
   ]
  },
  {
   "cell_type": "code",
   "execution_count": null,
   "id": "2a9db982",
   "metadata": {},
   "outputs": [],
   "source": [
    "var_name = 'test_aam/fully_connected'\n",
    "if any(name in var_name for name in ['fully_connected', 'Adam']): \n",
    "    print(var_name)"
   ]
  },
  {
   "cell_type": "code",
   "execution_count": null,
   "id": "8f9d8641",
   "metadata": {},
   "outputs": [],
   "source": []
  },
  {
   "cell_type": "code",
   "execution_count": null,
   "id": "749cfd92",
   "metadata": {},
   "outputs": [],
   "source": [
    "reward_batch = 50\n",
    "eval_avg_reward = [0.7332393928901376, 1.0766415567891021, 0.45357877642460304, 0.49292794847875643, 0.21864144825921092, 0.9639231690003396, 1.2590694545638126, 1.8497093170024532, 1.9794009624427014, 1.6684047616565554]"
   ]
  },
  {
   "cell_type": "code",
   "execution_count": null,
   "id": "b5cfc753",
   "metadata": {},
   "outputs": [],
   "source": [
    "x = [reward_batch * i for i in np.arange(len(eval_avg_reward))]"
   ]
  },
  {
   "cell_type": "code",
   "execution_count": null,
   "id": "d7b45c2d",
   "metadata": {},
   "outputs": [],
   "source": [
    "len([36, 13, 6, 7, 34, 26, 28, 10, 0, 31, 17, 1, 19, 0, 2, 11, 33, 27, 3, 22, 0, 14, 25, 25, 17, 13, 11, 15, 37, 25, 30, 8])"
   ]
  },
  {
   "cell_type": "code",
   "execution_count": null,
   "id": "1f7257a8",
   "metadata": {},
   "outputs": [],
   "source": [
    "# Number of output note classes. This is a property of the dataset.\n",
    "NUM_CLASSES = 38\n",
    "\n",
    "# Default batch size.\n",
    "BATCH_SIZE = 128"
   ]
  },
  {
   "cell_type": "code",
   "execution_count": null,
   "id": "8aadab46",
   "metadata": {},
   "outputs": [],
   "source": [
    "# Parameters\n",
    "param = tf.contrib.training.HParams(use_dynamic_rnn=True,\n",
    "                                    batch_size=BATCH_SIZE,\n",
    "                                    lr=0.0002,\n",
    "                                    l2_reg=2.5e-5,\n",
    "                                    clip_norm=5,\n",
    "                                    initial_learning_rate=0.5,\n",
    "                                    decay_steps=1000,\n",
    "                                    decay_rate=0.85,\n",
    "                                    rnn_layer_sizes_t=[200, 200],\n",
    "                                    rnn_layer_sizes_n=[100, 100],\n",
    "                                    midi_high = 101,\n",
    "                                    midi_low = 24,\n",
    "                                    output_keep_prob= 0.5,\n",
    "                                    skip_first_n_losses=32,\n",
    "                                    one_hot_length=NUM_CLASSES,\n",
    "                                    exponentially_decay_learning_rate=True)"
   ]
  },
  {
   "cell_type": "code",
   "execution_count": null,
   "id": "b8b9d943",
   "metadata": {},
   "outputs": [],
   "source": [
    "x1 = tf.placeholder(tf.float32, [1], name='batch_size')\n",
    "x1 = tf.placeholder(tf.float32, [1], name='batch_size')"
   ]
  },
  {
   "cell_type": "code",
   "execution_count": null,
   "id": "0388ea14",
   "metadata": {},
   "outputs": [],
   "source": [
    "# Copyright 2016 Google Inc. All Rights Reserved.\n",
    "x_2 = events_rnn_graph.make_rnn_cell(\n",
    "                [512, 512])\n"
   ]
  },
  {
   "cell_type": "code",
   "execution_count": null,
   "id": "f7bacb92",
   "metadata": {},
   "outputs": [],
   "source": [
    "x_2.state_size"
   ]
  },
  {
   "cell_type": "code",
   "execution_count": null,
   "id": "b160ba08",
   "metadata": {},
   "outputs": [],
   "source": [
    "import scipy"
   ]
  },
  {
   "cell_type": "code",
   "execution_count": null,
   "id": "e7fd4345",
   "metadata": {},
   "outputs": [],
   "source": [
    "scipy.special"
   ]
  },
  {
   "cell_type": "code",
   "execution_count": null,
   "id": "e0e6378b",
   "metadata": {},
   "outputs": [],
   "source": [
    "tensor = np.zeros((1,36,1,2)) + 0.01\n",
    "tensor[0,25,0,0] = 1\n",
    "tensor[0,30,0,0] = 0\n"
   ]
  },
  {
   "cell_type": "code",
   "execution_count": null,
   "id": "99870d70",
   "metadata": {},
   "outputs": [],
   "source": [
    "indices = []\n",
    "for j in range(len(np.where(tensor==1)[0])):\n",
    "    indices.append([int(i[j]) for i in np.where(tensor==1)])"
   ]
  },
  {
   "cell_type": "code",
   "execution_count": null,
   "id": "24a13e10",
   "metadata": {},
   "outputs": [],
   "source": [
    "index = np.where(tensor==1)\n",
    "len(index)"
   ]
  },
  {
   "cell_type": "code",
   "execution_count": null,
   "id": "2f6cd9b7",
   "metadata": {},
   "outputs": [],
   "source": [
    "tensor[indices[0][0],indices[0][1],indices[0][2],indices[0][3]]"
   ]
  },
  {
   "cell_type": "code",
   "execution_count": null,
   "id": "7b5182ad",
   "metadata": {},
   "outputs": [],
   "source": [
    "x = tf.reduce_prod(tensor, axis=1, keep_dims=True)\n",
    "with tf.Session() as sess:  print(x.eval()) "
   ]
  },
  {
   "cell_type": "code",
   "execution_count": null,
   "id": "d2c21fa7",
   "metadata": {},
   "outputs": [],
   "source": [
    "probs = np.array([[0.3, 0.1], [0.7, 0.2], [0.2, 0.9], [0.9,0.3]])\n",
    "actual = np.array([[0, 0], [1, 1], [0, 0], [1,0]])"
   ]
  },
  {
   "cell_type": "code",
   "execution_count": null,
   "id": "1152a15b",
   "metadata": {},
   "outputs": [],
   "source": [
    "res = probs*actual\n"
   ]
  },
  {
   "cell_type": "code",
   "execution_count": null,
   "id": "4cccce22",
   "metadata": {},
   "outputs": [],
   "source": [
    "(1-probs)*(1-actual) + probs*actual"
   ]
  },
  {
   "cell_type": "code",
   "execution_count": null,
   "id": "ade84201",
   "metadata": {},
   "outputs": [],
   "source": [
    "prob_same_note = 1-probs-actual+2*probs*actual"
   ]
  },
  {
   "cell_type": "code",
   "execution_count": null,
   "id": "c3f3fd28",
   "metadata": {},
   "outputs": [],
   "source": [
    "np.prod(prob_same_note, axis=0)[0]\n"
   ]
  },
  {
   "cell_type": "code",
   "execution_count": null,
   "id": "862324b1",
   "metadata": {},
   "outputs": [],
   "source": [
    "(actual, probs)"
   ]
  },
  {
   "cell_type": "code",
   "execution_count": null,
   "id": "b931fd65",
   "metadata": {},
   "outputs": [],
   "source": [
    "1-probs*actual"
   ]
  },
  {
   "cell_type": "code",
   "execution_count": null,
   "id": "906d358d",
   "metadata": {},
   "outputs": [],
   "source": [
    "np.transpose(np.stack([actual[:,0], actual[:,0]])) "
   ]
  },
  {
   "cell_type": "code",
   "execution_count": null,
   "id": "a4e49a52",
   "metadata": {},
   "outputs": [],
   "source": [
    "actual_played_only = actual[:,0]\n",
    "actual_not_played_only = 1 - actual_played_only"
   ]
  },
  {
   "cell_type": "code",
   "execution_count": null,
   "id": "e8f0c6ae",
   "metadata": {},
   "outputs": [],
   "source": [
    "(1 - probs[:,1]) * actual[:,0] +  (1 - 0) * (1 - actual[:,0])"
   ]
  },
  {
   "cell_type": "code",
   "execution_count": null,
   "id": "79b65cd6",
   "metadata": {},
   "outputs": [],
   "source": [
    "np.stack([actual,probs])"
   ]
  },
  {
   "cell_type": "code",
   "execution_count": null,
   "id": "d16e6d67",
   "metadata": {},
   "outputs": [],
   "source": [
    "res = (1-probs)*(1-actual) + probs*actual\n",
    "prob_same_note_played = res.prod(axis=0)[0]\n",
    "res_2 = (1 - probs[:,1]) * actual[:,0] +  (1 - 0) * (1 - actual[:,0])\n",
    "prob_same_note_not_articulated =res_2.prod()"
   ]
  },
  {
   "cell_type": "code",
   "execution_count": null,
   "id": "22a0bb07",
   "metadata": {},
   "outputs": [],
   "source": [
    "prob_same_note_not_articulated"
   ]
  },
  {
   "cell_type": "code",
   "execution_count": null,
   "id": "ce03b925",
   "metadata": {},
   "outputs": [],
   "source": [
    "prob_same_note_played_and_not_articulated = prob_same_note_played*prob_same_note_not_articulated"
   ]
  },
  {
   "cell_type": "code",
   "execution_count": null,
   "id": "9f220c86",
   "metadata": {},
   "outputs": [],
   "source": [
    "prob_same_note_played_and_not_articulated"
   ]
  },
  {
   "cell_type": "code",
   "execution_count": null,
   "id": "d8dcb7bc",
   "metadata": {},
   "outputs": [],
   "source": [
    "logits_no_event = - tf.log(1. / probs_same_no_event - 1.)"
   ]
  }
 ],
 "metadata": {
  "kernelspec": {
   "display_name": "Python 3",
   "language": "python",
   "name": "python3"
  },
  "language_info": {
   "codemirror_mode": {
    "name": "ipython",
    "version": 3
   },
   "file_extension": ".py",
   "mimetype": "text/x-python",
   "name": "python",
   "nbconvert_exporter": "python",
   "pygments_lexer": "ipython3",
   "version": "3.6.14"
  }
 },
 "nbformat": 4,
 "nbformat_minor": 5
}
