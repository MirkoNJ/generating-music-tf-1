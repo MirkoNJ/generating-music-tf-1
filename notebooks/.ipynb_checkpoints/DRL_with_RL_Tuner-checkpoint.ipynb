{
 "cells": [
  {
   "cell_type": "markdown",
   "metadata": {},
   "source": [
    "### Set Up"
   ]
  },
  {
   "cell_type": "markdown",
   "metadata": {},
   "source": [
    "#### Standard library imports"
   ]
  },
  {
   "cell_type": "code",
   "execution_count": 1,
   "metadata": {},
   "outputs": [],
   "source": [
    "import datetime\n",
    "import os\n",
    "import sys"
   ]
  },
  {
   "cell_type": "markdown",
   "metadata": {},
   "source": [
    "#### Third party imports "
   ]
  },
  {
   "cell_type": "code",
   "execution_count": 2,
   "metadata": {},
   "outputs": [],
   "source": [
    "import numpy as np\n",
    "import tensorflow as tf\n",
    "from tensorflow.python.tools.inspect_checkpoint import print_tensors_in_checkpoint_file"
   ]
  },
  {
   "cell_type": "markdown",
   "metadata": {},
   "source": [
    "#### Local imports"
   ]
  },
  {
   "cell_type": "code",
   "execution_count": 3,
   "metadata": {},
   "outputs": [],
   "source": [
    "from modules.magenta.rl_tuner import rl_tuner\n",
    "from modules.magenta.rl_tuner import rl_tuner_ops"
   ]
  },
  {
   "cell_type": "markdown",
   "metadata": {},
   "source": [
    "#### Autoreload"
   ]
  },
  {
   "cell_type": "code",
   "execution_count": 4,
   "metadata": {},
   "outputs": [],
   "source": [
    "%load_ext autoreload\n",
    "%autoreload 2"
   ]
  },
  {
   "cell_type": "markdown",
   "metadata": {},
   "source": [
    "#### Setting relative directories and file names"
   ]
  },
  {
   "cell_type": "code",
   "execution_count": 5,
   "metadata": {},
   "outputs": [],
   "source": [
    "# Place to save your model checkpoints and composion\n",
    "Working_Directory = os.getcwd()\n",
    "Project_Directory = os.path.abspath(os.path.join(Working_Directory,'..'))\n",
    "Output_Directory = Project_Directory + \"/outputs/\"\n",
    "Model_Directory = Output_Directory + \"models/\"\n",
    "Music_Out_Directory = Output_Directory + \"midi/\"\n",
    "Checkpoint_Directory = Model_Directory + \"ckpt/\""
   ]
  },
  {
   "cell_type": "code",
   "execution_count": 6,
   "metadata": {},
   "outputs": [],
   "source": [
    "current_time_str = datetime.datetime.now().strftime(\"%Y%m%d-%H%M%S\")\n",
    "try:\n",
    "    os.mkdir(Checkpoint_Directory + current_time_str[:-7])    \n",
    "except:\n",
    "    pass\n",
    "DRL_ckpt_dir_name = \"20211016\" + \"/rl_tuner/\"\n",
    "DRL_ckpt_name = \"Long_Train_plus_chopin\"\n",
    "DRL_ckpt_dir = Checkpoint_Directory + DRL_ckpt_dir_name\n",
    "DRL_ckpt_file = DRL_ckpt_dir + DRL_ckpt_name\n",
    "\n",
    "DL_ckpt_dir_name = \"20211006/\"\n",
    "DL_ckpt_name = \"Long_Train_256_plus_chopin\"\n",
    "DL_ckpt_dir = Checkpoint_Directory + DL_ckpt_dir_name\n",
    "DL_ckpt_file = DL_ckpt_dir + DL_ckpt_name"
   ]
  },
  {
   "cell_type": "markdown",
   "metadata": {},
   "source": [
    "#### Compare ckpt -files"
   ]
  },
  {
   "cell_type": "code",
   "execution_count": null,
   "metadata": {},
   "outputs": [],
   "source": [
    "print_tensors_in_checkpoint_file(file_name = DRL_ckpt_file, tensor_name='', all_tensors=False)"
   ]
  },
  {
   "cell_type": "code",
   "execution_count": null,
   "metadata": {},
   "outputs": [],
   "source": [
    "print_tensors_in_checkpoint_file(file_name = DL_ckpt_file, tensor_name='', all_tensors=False)"
   ]
  },
  {
   "cell_type": "markdown",
   "metadata": {},
   "source": [
    "### Initialise network"
   ]
  },
  {
   "cell_type": "code",
   "execution_count": null,
   "metadata": {},
   "outputs": [],
   "source": [
    "# Model parameter settings\n",
    "ALGORITHM = 'q'\n",
    "REWARD_SCALER = 1\n",
    "OUTPUT_EVERY_NTH = int(5e4)\n",
    "NUM_NOTES_IN_COMPOSITION = 32\n",
    "PRIME_WITH_MIDI = False"
   ]
  },
  {
   "cell_type": "code",
   "execution_count": null,
   "metadata": {},
   "outputs": [],
   "source": [
    "rl_tuner_hparams = tf.contrib.training.HParams(random_action_probability = 0.1,\n",
    "                                               store_every_nth = 1,\n",
    "                                               train_every_nth = 5,\n",
    "                                               minibatch_size = 32,\n",
    "                                               discount_rate = 0.5,\n",
    "                                               max_experience = 10000,\n",
    "                                               target_network_update_rate = 0.01)"
   ]
  },
  {
   "cell_type": "code",
   "execution_count": null,
   "metadata": {},
   "outputs": [],
   "source": [
    "rl_net = rl_tuner.RLTuner(DRL_ckpt_dir,\n",
    "                          Music_Out_Directory,\n",
    "                          note_rnn_checkpoint_dir = DL_ckpt_dir,\n",
    "                          note_rnn_checkpoint_file = DL_ckpt_file,\n",
    "                          dqn_hparams = rl_tuner_hparams, \n",
    "                          algorithm = ALGORITHM,\n",
    "                          reward_scaler = REWARD_SCALER,\n",
    "                          output_every_nth = OUTPUT_EVERY_NTH,\n",
    "                          num_notes_in_melody = NUM_NOTES_IN_COMPOSITION)"
   ]
  },
  {
   "cell_type": "markdown",
   "metadata": {},
   "source": [
    "### Generate initial music sequence before training with RL "
   ]
  },
  {
   "cell_type": "code",
   "execution_count": null,
   "metadata": {},
   "outputs": [],
   "source": [
    "rl_net.generate_music_sequence(visualize_probs=True, title='pre_rl', length=48)"
   ]
  },
  {
   "cell_type": "markdown",
   "metadata": {},
   "source": [
    "### DRL training"
   ]
  },
  {
   "cell_type": "code",
   "execution_count": null,
   "metadata": {},
   "outputs": [],
   "source": [
    "n = int(1e6)\n",
    "rl_net.train(num_steps=n, exploration_period=n // 2)"
   ]
  },
  {
   "cell_type": "markdown",
   "metadata": {},
   "source": [
    "### Analyse Results"
   ]
  },
  {
   "cell_type": "code",
   "execution_count": null,
   "metadata": {},
   "outputs": [],
   "source": [
    "grad = tf.constant([-0.1,1.,0.,0.])\n",
    "epsilon = tf.constant(0.001)\n",
    "grad_pos_eps = tf.cast(tf.greater_equal(grad, 0), dtype=grad.dtype) * epsilon\n",
    "grat_neg_eps = tf.cast(tf.less(grad, 0), dtype=grad.dtype) * (-epsilon)\n",
    "grad = grad + grad_pos_eps + grat_neg_eps\n",
    "\n",
    "with tf.Session() as sess:  print(grad.eval()) "
   ]
  },
  {
   "cell_type": "code",
   "execution_count": null,
   "metadata": {},
   "outputs": [],
   "source": [
    "# Plot the rewards received during training. Improves as chance of random exploration action decreases.\n",
    "rl_net.plot_rewards()"
   ]
  },
  {
   "cell_type": "code",
   "execution_count": null,
   "metadata": {},
   "outputs": [],
   "source": [
    "# Plot rewards received during calls to evaluation function throughout training. \n",
    "# Does not include exploration or random actions.\n",
    "rl_net.plot_evaluation()"
   ]
  },
  {
   "cell_type": "markdown",
   "metadata": {},
   "source": [
    "### Generate sequence after training with RL "
   ]
  },
  {
   "cell_type": "code",
   "execution_count": null,
   "metadata": {},
   "outputs": [],
   "source": [
    "rl_net.generate_music_sequence(visualize_probs=True, title='post_rl', length=96)"
   ]
  },
  {
   "cell_type": "markdown",
   "metadata": {},
   "source": [
    "### Save Model"
   ]
  },
  {
   "cell_type": "code",
   "execution_count": null,
   "metadata": {},
   "outputs": [],
   "source": [
    "# If you're happy with the model, save a version!\n",
    "rl_net.save_model('model_full_no_chopin', DRL_ckpt_dir)"
   ]
  },
  {
   "cell_type": "markdown",
   "metadata": {},
   "source": [
    "### Compute music theory statistics"
   ]
  },
  {
   "cell_type": "code",
   "execution_count": null,
   "metadata": {},
   "outputs": [],
   "source": [
    "# Compute statistics about how well the model adheres to the music theory rules.\n",
    "stat_dict = rl_net.evaluate_music_theory_metrics(num_compositions=100)"
   ]
  },
  {
   "cell_type": "markdown",
   "metadata": {},
   "source": [
    "### Restore from directory"
   ]
  },
  {
   "cell_type": "code",
   "execution_count": null,
   "metadata": {},
   "outputs": [],
   "source": [
    "rl_tuner_hparams = tf.contrib.training.HParams(random_action_probability = 0.1,\n",
    "                                               store_every_nth = 1,\n",
    "                                               train_every_nth = 5,\n",
    "                                               minibatch_size = 32,\n",
    "                                               discount_rate = 0.5,\n",
    "                                               max_experience = 10000,\n",
    "                                               target_network_update_rate = 0.01)"
   ]
  },
  {
   "cell_type": "code",
   "execution_count": null,
   "metadata": {},
   "outputs": [],
   "source": [
    "x      = rl_tuner.RLTuner(DRL_ckpt_dir,\n",
    "                          Music_Out_Directory,\n",
    "                          note_rnn_checkpoint_dir = DL_ckpt_dir,\n",
    "                          note_rnn_checkpoint_file = DL_ckpt_file,\n",
    "                          dqn_hparams = rl_tuner_hparams, \n",
    "                          algorithm = ALGORITHM,\n",
    "                          reward_scaler = REWARD_SCALER,\n",
    "                          output_every_nth = OUTPUT_EVERY_NTH,\n",
    "                          num_notes_in_melody = NUM_NOTES_IN_COMPOSITION)"
   ]
  },
  {
   "cell_type": "code",
   "execution_count": null,
   "metadata": {},
   "outputs": [],
   "source": [
    "x.restore_from_directory(Checkpoint_Directory+DRL_ckpt_dir_name,'model_full_no_chopin-995000', reward_file_name =  )"
   ]
  }
 ],
 "metadata": {
  "kernelspec": {
   "display_name": "Python 3",
   "language": "python",
   "name": "python3"
  },
  "language_info": {
   "codemirror_mode": {
    "name": "ipython",
    "version": 3
   },
   "file_extension": ".py",
   "mimetype": "text/x-python",
   "name": "python",
   "nbconvert_exporter": "python",
   "pygments_lexer": "ipython3",
   "version": "3.6.15"
  }
 },
 "nbformat": 4,
 "nbformat_minor": 1
}
