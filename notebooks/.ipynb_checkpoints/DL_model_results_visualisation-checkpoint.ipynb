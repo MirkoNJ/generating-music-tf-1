{
 "cells": [
  {
   "cell_type": "markdown",
   "id": "debe6631",
   "metadata": {},
   "source": [
    "### Model evaluation"
   ]
  },
  {
   "cell_type": "code",
   "execution_count": null,
   "id": "89430d83",
   "metadata": {},
   "outputs": [],
   "source": [
    "# Generate Final Test and Validation Likelihoods \n",
    "keep_prob=1\n",
    "training_loss_ave=[]\n",
    "validation_loss_ave=[]\n",
    "\n",
    "with tf.Session() as sess:\n",
    "    sess.run(tf.global_variables_initializer())\n",
    "    \n",
    "    # try to restore the pre_trained\n",
    "    if restore_model_name is not None:\n",
    "        print(\"Load the model from: {}\".format(save_model_name))\n",
    "        saver.restore(sess, Load_Directory + '/{}'.format(save_model_name))\n",
    "    \n",
    "    # Initial States\n",
    "    timewise_state_val = []\n",
    "    for i in range(len(num_t_units)):\n",
    "        c_t = np.zeros((batch_size * num_notes, num_t_units[i])) \n",
    "        h_t = np.zeros((batch_size * num_notes, num_t_units[i]))\n",
    "        timewise_state_val.append(LSTMStateTuple(h_t, c_t))\n",
    "        \n",
    "    notewise_state_val = []\n",
    "    for i in range(len(num_n_units)):\n",
    "        c_n = np.zeros((batch_size * num_timesteps, num_n_units[i]))\n",
    "        h_n = np.zeros((batch_size * num_timesteps, num_n_units[i]))\n",
    "        notewise_state_val.append(LSTMStateTuple(h_n, c_n))\n",
    "        \n",
    "    for p in range(10):\n",
    "        batch_input_state_test = multi_training.getPieceBatch(training_pieces, batch_size, num_timesteps) \n",
    "        \n",
    "        # Run Session\n",
    "        feed_dict = {Note_State_Batch: batch_input_state_test,\n",
    "                     timewise_state: timewise_state_val,\n",
    "                     notewise_state: notewise_state_val,\n",
    "                     time_init: 0, \n",
    "                     output_keep_prob: 1}\n",
    "        loss_run, log_likelihood_run, note_gen_out_run = sess.run(\n",
    "            [loss, log_likelihood, note_gen_out], \n",
    "            feed_dict = feed_dict)                                                           \n",
    "        training_loss_ave.append(-88 * loss_run)\n",
    "        \n",
    "        batch_input_state_valid = multi_training.getPieceBatch(validation_pieces, batch_size, num_timesteps) \n",
    "        \n",
    "        # Run Session\n",
    "        feed_dict = {Note_State_Batch: batch_input_state_valid,\n",
    "                     timewise_state: timewise_state_val,\n",
    "                     notewise_state: notewise_state_val,\n",
    "                     time_init: 0,\n",
    "                     output_keep_prob: 1}\n",
    "        loss_run, log_likelihood_run, note_gen_out_run = sess.run(\n",
    "            [loss, log_likelihood, note_gen_out],\n",
    "            feed_dict = feed_dict)                                                              \n",
    "        validation_loss_ave.append(-88 * loss_run)\n",
    "                \n",
    "\n",
    "# Plot the final loss \n",
    "plt.plot(training_loss_ave, label = \"Training Log likelihood\")\n",
    "plt.plot(validation_loss_ave, label = \"Validation Log likelihood\")\n",
    "plt.legend()\n",
    "plt.show"
   ]
  }
 ],
 "metadata": {
  "kernelspec": {
   "display_name": "Python 3",
   "language": "python",
   "name": "python3"
  },
  "language_info": {
   "codemirror_mode": {
    "name": "ipython",
    "version": 3
   },
   "file_extension": ".py",
   "mimetype": "text/x-python",
   "name": "python",
   "nbconvert_exporter": "python",
   "pygments_lexer": "ipython3",
   "version": "3.6.14"
  }
 },
 "nbformat": 4,
 "nbformat_minor": 5
}
